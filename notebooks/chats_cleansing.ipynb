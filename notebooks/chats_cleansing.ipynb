{
 "cells": [
  {
   "cell_type": "code",
   "execution_count": 6,
   "metadata": {},
   "outputs": [],
   "source": [
    "import pandas as pd\n",
    "import json\n",
    "import re"
   ]
  },
  {
   "cell_type": "code",
   "execution_count": 7,
   "metadata": {},
   "outputs": [],
   "source": [
    "# csv_path = '../data/Respuestas_Whatss_MX.csv'\n",
    "csv_path = '../data/raw/MEX_WA_Messages.txt'"
   ]
  },
  {
   "cell_type": "code",
   "execution_count": 8,
   "metadata": {},
   "outputs": [],
   "source": [
    "# mx_df = pd.read_csv(csv_path, encoding='utf-8', sep=',')\n",
    "mx_df = pd.read_csv(csv_path, sep='\\t', lineterminator='\\r')"
   ]
  },
  {
   "cell_type": "code",
   "execution_count": 9,
   "metadata": {},
   "outputs": [
    {
     "data": {
      "application/vnd.microsoft.datawrangler.viewer.v0+json": {
       "columns": [
        {
         "name": "index",
         "rawType": "int64",
         "type": "integer"
        },
        {
         "name": "mobile",
         "rawType": "int64",
         "type": "integer"
        },
        {
         "name": "locale",
         "rawType": "object",
         "type": "string"
        },
        {
         "name": "createddate",
         "rawType": "object",
         "type": "string"
        },
        {
         "name": "message_hcp_reply",
         "rawType": "object",
         "type": "string"
        },
        {
         "name": "ConversationId",
         "rawType": "object",
         "type": "string"
        },
        {
         "name": "ChatMessagingMOLogId",
         "rawType": "int64",
         "type": "integer"
        },
        {
         "name": "ChannelId",
         "rawType": "int64",
         "type": "integer"
        }
       ],
       "ref": "a851851a-a9f7-4569-9e85-b7f5f6c55810",
       "rows": [
        [
         "0",
         "524499287753",
         "MX",
         "Apr  1 2025  8:20PM",
         "{\"Sha256\":\"oXTLNxWj4wcX1sP12vU2CQ9pbfS1ZOnvbqW6w1qye0w=\",\"Id\":\"1007047994724112\",\"MimeType\":\"image/jpeg\"}",
         "wamid.HBgNNTIxNDQ5OTI4Nzc1MxUCABIYIDM4MTc1MEI5QTIyQzc3NjU4Q0NGNDJDNzE4OTRBNzY2AA==",
         "50647",
         "5215662260886"
        ],
        [
         "1",
         "526641650361",
         "MX",
         "Apr  1 2025 10:13PM",
         "{\"Sha256\":\"I7M+qvtt/mpnxGvgwgS6UedqoqKl3X26r5/CexHDWEI=\",\"Id\":\"2614801465377281\",\"MimeType\":\"image/jpeg\"}",
         "wamid.HBgNNTIxNjY0MTY1MDM2MRUCABIYFDNBNzFFNTkxREYyRkQ2REZEODMyAA==",
         "50648",
         "5215662260886"
        ],
        [
         "2",
         "524777295424",
         "MX",
         "Apr  2 2025  6:12AM",
         "{\"Sha256\":\"XIjTN93lwFa1NQqkgp5Caojuh26zYulnDaT3mb4gcts=\",\"Id\":\"1809390469827078\",\"MimeType\":\"image/jpeg\"}",
         "wamid.HBgNNTIxNDc3NzI5NTQyNBUCABIYFDVFNjVDMjBGOTA1MUE5NzBCQkY5AA==",
         "50649",
         "5215662260886"
        ],
        [
         "3",
         "524433302549",
         "MX",
         "Apr  2 2025  8:32AM",
         "{\"Sha256\":\"LnMo81aL1UiUGjZFsN5q4vZViMWIeiyixPxmIo3MAR8=\",\"Id\":\"632375542976762\",\"MimeType\":\"image/jpeg\"}",
         "wamid.HBgNNTIxNDQzMzMwMjU0ORUCABIYIDExRDIyNEFFNkI0RTBGNEEyQzVFMDBFNDY4NDRDQkE5AA==",
         "50651",
         "5215662260886"
        ],
        [
         "4",
         "525578202314",
         "MX",
         "Apr  2 2025  8:39AM",
         "{\"Sha256\":\"iNhoxNVcN3sz28LLlHqcCcsQ1LhpQgKQTm6eDt5Zgcs=\",\"Id\":\"2173179959763774\",\"MimeType\":\"image/jpeg\"}",
         "wamid.HBgNNTIxNTU3ODIwMjMxNBUCABIYIDIzRDM3QTI1NzExN0YyRDYyNEEyOUIxRkMwNTZGMTY4AA==",
         "50652",
         "5215662260886"
        ]
       ],
       "shape": {
        "columns": 7,
        "rows": 5
       }
      },
      "text/html": [
       "<div>\n",
       "<style scoped>\n",
       "    .dataframe tbody tr th:only-of-type {\n",
       "        vertical-align: middle;\n",
       "    }\n",
       "\n",
       "    .dataframe tbody tr th {\n",
       "        vertical-align: top;\n",
       "    }\n",
       "\n",
       "    .dataframe thead th {\n",
       "        text-align: right;\n",
       "    }\n",
       "</style>\n",
       "<table border=\"1\" class=\"dataframe\">\n",
       "  <thead>\n",
       "    <tr style=\"text-align: right;\">\n",
       "      <th></th>\n",
       "      <th>mobile</th>\n",
       "      <th>locale</th>\n",
       "      <th>createddate</th>\n",
       "      <th>message_hcp_reply</th>\n",
       "      <th>ConversationId</th>\n",
       "      <th>ChatMessagingMOLogId</th>\n",
       "      <th>ChannelId</th>\n",
       "    </tr>\n",
       "  </thead>\n",
       "  <tbody>\n",
       "    <tr>\n",
       "      <th>0</th>\n",
       "      <td>524499287753</td>\n",
       "      <td>MX</td>\n",
       "      <td>Apr  1 2025  8:20PM</td>\n",
       "      <td>{\"Sha256\":\"oXTLNxWj4wcX1sP12vU2CQ9pbfS1ZOnvbqW...</td>\n",
       "      <td>wamid.HBgNNTIxNDQ5OTI4Nzc1MxUCABIYIDM4MTc1MEI5...</td>\n",
       "      <td>50647</td>\n",
       "      <td>5215662260886</td>\n",
       "    </tr>\n",
       "    <tr>\n",
       "      <th>1</th>\n",
       "      <td>526641650361</td>\n",
       "      <td>MX</td>\n",
       "      <td>Apr  1 2025 10:13PM</td>\n",
       "      <td>{\"Sha256\":\"I7M+qvtt/mpnxGvgwgS6UedqoqKl3X26r5/...</td>\n",
       "      <td>wamid.HBgNNTIxNjY0MTY1MDM2MRUCABIYFDNBNzFFNTkx...</td>\n",
       "      <td>50648</td>\n",
       "      <td>5215662260886</td>\n",
       "    </tr>\n",
       "    <tr>\n",
       "      <th>2</th>\n",
       "      <td>524777295424</td>\n",
       "      <td>MX</td>\n",
       "      <td>Apr  2 2025  6:12AM</td>\n",
       "      <td>{\"Sha256\":\"XIjTN93lwFa1NQqkgp5Caojuh26zYulnDaT...</td>\n",
       "      <td>wamid.HBgNNTIxNDc3NzI5NTQyNBUCABIYFDVFNjVDMjBG...</td>\n",
       "      <td>50649</td>\n",
       "      <td>5215662260886</td>\n",
       "    </tr>\n",
       "    <tr>\n",
       "      <th>3</th>\n",
       "      <td>524433302549</td>\n",
       "      <td>MX</td>\n",
       "      <td>Apr  2 2025  8:32AM</td>\n",
       "      <td>{\"Sha256\":\"LnMo81aL1UiUGjZFsN5q4vZViMWIeiyixPx...</td>\n",
       "      <td>wamid.HBgNNTIxNDQzMzMwMjU0ORUCABIYIDExRDIyNEFF...</td>\n",
       "      <td>50651</td>\n",
       "      <td>5215662260886</td>\n",
       "    </tr>\n",
       "    <tr>\n",
       "      <th>4</th>\n",
       "      <td>525578202314</td>\n",
       "      <td>MX</td>\n",
       "      <td>Apr  2 2025  8:39AM</td>\n",
       "      <td>{\"Sha256\":\"iNhoxNVcN3sz28LLlHqcCcsQ1LhpQgKQTm6...</td>\n",
       "      <td>wamid.HBgNNTIxNTU3ODIwMjMxNBUCABIYIDIzRDM3QTI1...</td>\n",
       "      <td>50652</td>\n",
       "      <td>5215662260886</td>\n",
       "    </tr>\n",
       "  </tbody>\n",
       "</table>\n",
       "</div>"
      ],
      "text/plain": [
       "         mobile locale          createddate  \\\n",
       "0  524499287753     MX  Apr  1 2025  8:20PM   \n",
       "1  526641650361     MX  Apr  1 2025 10:13PM   \n",
       "2  524777295424     MX  Apr  2 2025  6:12AM   \n",
       "3  524433302549     MX  Apr  2 2025  8:32AM   \n",
       "4  525578202314     MX  Apr  2 2025  8:39AM   \n",
       "\n",
       "                                   message_hcp_reply  \\\n",
       "0  {\"Sha256\":\"oXTLNxWj4wcX1sP12vU2CQ9pbfS1ZOnvbqW...   \n",
       "1  {\"Sha256\":\"I7M+qvtt/mpnxGvgwgS6UedqoqKl3X26r5/...   \n",
       "2  {\"Sha256\":\"XIjTN93lwFa1NQqkgp5Caojuh26zYulnDaT...   \n",
       "3  {\"Sha256\":\"LnMo81aL1UiUGjZFsN5q4vZViMWIeiyixPx...   \n",
       "4  {\"Sha256\":\"iNhoxNVcN3sz28LLlHqcCcsQ1LhpQgKQTm6...   \n",
       "\n",
       "                                      ConversationId  ChatMessagingMOLogId  \\\n",
       "0  wamid.HBgNNTIxNDQ5OTI4Nzc1MxUCABIYIDM4MTc1MEI5...                 50647   \n",
       "1  wamid.HBgNNTIxNjY0MTY1MDM2MRUCABIYFDNBNzFFNTkx...                 50648   \n",
       "2  wamid.HBgNNTIxNDc3NzI5NTQyNBUCABIYFDVFNjVDMjBG...                 50649   \n",
       "3  wamid.HBgNNTIxNDQzMzMwMjU0ORUCABIYIDExRDIyNEFF...                 50651   \n",
       "4  wamid.HBgNNTIxNTU3ODIwMjMxNBUCABIYIDIzRDM3QTI1...                 50652   \n",
       "\n",
       "       ChannelId  \n",
       "0  5215662260886  \n",
       "1  5215662260886  \n",
       "2  5215662260886  \n",
       "3  5215662260886  \n",
       "4  5215662260886  "
      ]
     },
     "execution_count": 9,
     "metadata": {},
     "output_type": "execute_result"
    }
   ],
   "source": [
    "mx_df.head()"
   ]
  },
  {
   "cell_type": "markdown",
   "metadata": {},
   "source": [
    "## Drop unnecessary columns\n",
    "\n",
    "- locale\n",
    "- MessageData\n",
    "- ChannelType\n",
    "- ChannelId"
   ]
  },
  {
   "cell_type": "code",
   "execution_count": 10,
   "metadata": {},
   "outputs": [],
   "source": [
    "mx_df = mx_df.drop(['locale', 'ChannelId'], axis=1)"
   ]
  },
  {
   "cell_type": "markdown",
   "metadata": {},
   "source": [
    "## Set datatypes"
   ]
  },
  {
   "cell_type": "code",
   "execution_count": 11,
   "metadata": {},
   "outputs": [],
   "source": [
    "mx_df['mobile'] = mx_df['mobile'].fillna(0).astype(int)\n",
    "mx_df['message_hcp_reply'] = mx_df['message_hcp_reply'].astype(str)\n",
    "# mx_df['createddate'] = mx_df['createddate'].astype()\n",
    "mx_df['ConversationId'] = mx_df['ConversationId'].astype(str)\n",
    "mx_df['ChatMessagingMOLogId'] = mx_df['ChatMessagingMOLogId'].astype(int)\n"
   ]
  },
  {
   "cell_type": "markdown",
   "metadata": {},
   "source": [
    "## Json Parse"
   ]
  },
  {
   "cell_type": "code",
   "execution_count": 12,
   "metadata": {},
   "outputs": [],
   "source": [
    "def extracting_json_data(data: dict):\n",
    "    response = ''\n",
    "\n",
    "    #Body strcuture: Simple answer\n",
    "    if 'Body' in data.keys():\n",
    "        response = data['Body']\n",
    "        return response\n",
    "\n",
    "    # Payload: Button response\n",
    "    if 'Payload' in data.keys():\n",
    "        response = data['Payload']\n",
    "        return response\n",
    "    \n",
    "    # Multimedia resource\n",
    "    if 'Sha256' in data.keys() or 'Id' in data.keys():\n",
    "\n",
    "        if 'Caption' in data.keys():\n",
    "            response = data['Caption']\n",
    "\n",
    "        if 'FileName' in data.keys():\n",
    "            response = response +'\\n'+ data['FileName'] if response != '' else data['FileName']\n",
    "        \n",
    "        if  'MimeType' in data.keys():       \n",
    "            response = response + '\\n' + 'Recurso multimedia enviado: ' + data['MimeType'] if response != '' else 'Recurso multimedia enviado: ' + data['MimeType']\n",
    "\n",
    "        return response\n",
    "    \n",
    "    # Long answer\n",
    "    # if 'TextMessage' in data.keys():\n",
    "    #     if 'Text' in data['TextMessage'].keys() and data['TextMessage'].keys()!= None:\n",
    "    #         response = data['TextMessage']['Text']\n",
    "    #     return response\n",
    "    \n",
    "    return response\n",
    "\n"
   ]
  },
  {
   "cell_type": "code",
   "execution_count": 13,
   "metadata": {},
   "outputs": [],
   "source": [
    "def parse_json(response: str) -> str:\n",
    "\n",
    "    response =  re.sub(r'\\\\(?!n)', '', response)\n",
    "    response_data = ''\n",
    "\n",
    "    if response[:2] != '{\"':\n",
    "        return response\n",
    "        \n",
    "    # Cleaning Json\n",
    "    if response[-1] != '}':\n",
    "        response = response + '}'\n",
    "\n",
    "    if response[-2] != '\"' and response[-5:-1] != 'null':\n",
    "        response = response[:-1] + '\"}'\n",
    "\n",
    "    if response[-4:] == '\",\"}':\n",
    "        response = response[:-4] + '\"}'\n",
    "        \n",
    "    response = response.replace('}\"}', '}}')\n",
    "    \n",
    "    try:\n",
    "        json_data = json.loads(response)\n",
    "        response_data = extracting_json_data(json_data)\n",
    "        return response_data\n",
    "    \n",
    "    except json.JSONDecodeError as e:\n",
    "        # print(response)\n",
    "        # print(f\"Todavía hay un error: {e}\")\n",
    "        response = re.sub(r\"(?<![{:}'])\\\"(?![{:}'])\", r'\\\"', response)\n",
    "        # print(response)\n",
    "\n",
    "        try:\n",
    "            json_data = json.loads(response)\n",
    "            response_data = extracting_json_data(json_data)\n",
    "            return response_data\n",
    "        \n",
    "        except json.JSONDecodeError as e:\n",
    "            return ''"
   ]
  },
  {
   "cell_type": "code",
   "execution_count": 14,
   "metadata": {},
   "outputs": [],
   "source": [
    "# json_messages = mx_df['message_hcp_reply']"
   ]
  },
  {
   "cell_type": "code",
   "execution_count": 15,
   "metadata": {},
   "outputs": [],
   "source": [
    "# for message in json_messages:\n",
    "    # parse_json(message)"
   ]
  },
  {
   "cell_type": "code",
   "execution_count": 16,
   "metadata": {},
   "outputs": [],
   "source": [
    "mx_df['message_hcp_reply'] = mx_df['message_hcp_reply'].apply(parse_json)"
   ]
  },
  {
   "cell_type": "code",
   "execution_count": 17,
   "metadata": {},
   "outputs": [
    {
     "data": {
      "application/vnd.microsoft.datawrangler.viewer.v0+json": {
       "columns": [
        {
         "name": "index",
         "rawType": "int64",
         "type": "integer"
        },
        {
         "name": "mobile",
         "rawType": "int64",
         "type": "integer"
        },
        {
         "name": "createddate",
         "rawType": "object",
         "type": "string"
        },
        {
         "name": "message_hcp_reply",
         "rawType": "object",
         "type": "string"
        },
        {
         "name": "ConversationId",
         "rawType": "object",
         "type": "string"
        },
        {
         "name": "ChatMessagingMOLogId",
         "rawType": "int64",
         "type": "integer"
        }
       ],
       "ref": "cd1bb8d7-5c64-463a-8963-baddf5dea779",
       "rows": [
        [
         "0",
         "524499287753",
         "Apr  1 2025  8:20PM",
         "Recurso multimedia enviado: image/jpeg",
         "wamid.HBgNNTIxNDQ5OTI4Nzc1MxUCABIYIDM4MTc1MEI5QTIyQzc3NjU4Q0NGNDJDNzE4OTRBNzY2AA==",
         "50647"
        ],
        [
         "1",
         "526641650361",
         "Apr  1 2025 10:13PM",
         "Recurso multimedia enviado: image/jpeg",
         "wamid.HBgNNTIxNjY0MTY1MDM2MRUCABIYFDNBNzFFNTkxREYyRkQ2REZEODMyAA==",
         "50648"
        ],
        [
         "2",
         "524777295424",
         "Apr  2 2025  6:12AM",
         "Recurso multimedia enviado: image/jpeg",
         "wamid.HBgNNTIxNDc3NzI5NTQyNBUCABIYFDVFNjVDMjBGOTA1MUE5NzBCQkY5AA==",
         "50649"
        ],
        [
         "3",
         "524433302549",
         "Apr  2 2025  8:32AM",
         "Recurso multimedia enviado: image/jpeg",
         "wamid.HBgNNTIxNDQzMzMwMjU0ORUCABIYIDExRDIyNEFFNkI0RTBGNEEyQzVFMDBFNDY4NDRDQkE5AA==",
         "50651"
        ],
        [
         "4",
         "525578202314",
         "Apr  2 2025  8:39AM",
         "Recurso multimedia enviado: image/jpeg",
         "wamid.HBgNNTIxNTU3ODIwMjMxNBUCABIYIDIzRDM3QTI1NzExN0YyRDYyNEEyOUIxRkMwNTZGMTY4AA==",
         "50652"
        ]
       ],
       "shape": {
        "columns": 5,
        "rows": 5
       }
      },
      "text/html": [
       "<div>\n",
       "<style scoped>\n",
       "    .dataframe tbody tr th:only-of-type {\n",
       "        vertical-align: middle;\n",
       "    }\n",
       "\n",
       "    .dataframe tbody tr th {\n",
       "        vertical-align: top;\n",
       "    }\n",
       "\n",
       "    .dataframe thead th {\n",
       "        text-align: right;\n",
       "    }\n",
       "</style>\n",
       "<table border=\"1\" class=\"dataframe\">\n",
       "  <thead>\n",
       "    <tr style=\"text-align: right;\">\n",
       "      <th></th>\n",
       "      <th>mobile</th>\n",
       "      <th>createddate</th>\n",
       "      <th>message_hcp_reply</th>\n",
       "      <th>ConversationId</th>\n",
       "      <th>ChatMessagingMOLogId</th>\n",
       "    </tr>\n",
       "  </thead>\n",
       "  <tbody>\n",
       "    <tr>\n",
       "      <th>0</th>\n",
       "      <td>524499287753</td>\n",
       "      <td>Apr  1 2025  8:20PM</td>\n",
       "      <td>Recurso multimedia enviado: image/jpeg</td>\n",
       "      <td>wamid.HBgNNTIxNDQ5OTI4Nzc1MxUCABIYIDM4MTc1MEI5...</td>\n",
       "      <td>50647</td>\n",
       "    </tr>\n",
       "    <tr>\n",
       "      <th>1</th>\n",
       "      <td>526641650361</td>\n",
       "      <td>Apr  1 2025 10:13PM</td>\n",
       "      <td>Recurso multimedia enviado: image/jpeg</td>\n",
       "      <td>wamid.HBgNNTIxNjY0MTY1MDM2MRUCABIYFDNBNzFFNTkx...</td>\n",
       "      <td>50648</td>\n",
       "    </tr>\n",
       "    <tr>\n",
       "      <th>2</th>\n",
       "      <td>524777295424</td>\n",
       "      <td>Apr  2 2025  6:12AM</td>\n",
       "      <td>Recurso multimedia enviado: image/jpeg</td>\n",
       "      <td>wamid.HBgNNTIxNDc3NzI5NTQyNBUCABIYFDVFNjVDMjBG...</td>\n",
       "      <td>50649</td>\n",
       "    </tr>\n",
       "    <tr>\n",
       "      <th>3</th>\n",
       "      <td>524433302549</td>\n",
       "      <td>Apr  2 2025  8:32AM</td>\n",
       "      <td>Recurso multimedia enviado: image/jpeg</td>\n",
       "      <td>wamid.HBgNNTIxNDQzMzMwMjU0ORUCABIYIDExRDIyNEFF...</td>\n",
       "      <td>50651</td>\n",
       "    </tr>\n",
       "    <tr>\n",
       "      <th>4</th>\n",
       "      <td>525578202314</td>\n",
       "      <td>Apr  2 2025  8:39AM</td>\n",
       "      <td>Recurso multimedia enviado: image/jpeg</td>\n",
       "      <td>wamid.HBgNNTIxNTU3ODIwMjMxNBUCABIYIDIzRDM3QTI1...</td>\n",
       "      <td>50652</td>\n",
       "    </tr>\n",
       "  </tbody>\n",
       "</table>\n",
       "</div>"
      ],
      "text/plain": [
       "         mobile          createddate                       message_hcp_reply  \\\n",
       "0  524499287753  Apr  1 2025  8:20PM  Recurso multimedia enviado: image/jpeg   \n",
       "1  526641650361  Apr  1 2025 10:13PM  Recurso multimedia enviado: image/jpeg   \n",
       "2  524777295424  Apr  2 2025  6:12AM  Recurso multimedia enviado: image/jpeg   \n",
       "3  524433302549  Apr  2 2025  8:32AM  Recurso multimedia enviado: image/jpeg   \n",
       "4  525578202314  Apr  2 2025  8:39AM  Recurso multimedia enviado: image/jpeg   \n",
       "\n",
       "                                      ConversationId  ChatMessagingMOLogId  \n",
       "0  wamid.HBgNNTIxNDQ5OTI4Nzc1MxUCABIYIDM4MTc1MEI5...                 50647  \n",
       "1  wamid.HBgNNTIxNjY0MTY1MDM2MRUCABIYFDNBNzFFNTkx...                 50648  \n",
       "2  wamid.HBgNNTIxNDc3NzI5NTQyNBUCABIYFDVFNjVDMjBG...                 50649  \n",
       "3  wamid.HBgNNTIxNDQzMzMwMjU0ORUCABIYIDExRDIyNEFF...                 50651  \n",
       "4  wamid.HBgNNTIxNTU3ODIwMjMxNBUCABIYIDIzRDM3QTI1...                 50652  "
      ]
     },
     "execution_count": 17,
     "metadata": {},
     "output_type": "execute_result"
    }
   ],
   "source": [
    "mx_df.head()"
   ]
  },
  {
   "cell_type": "code",
   "execution_count": 18,
   "metadata": {},
   "outputs": [],
   "source": [
    "# Añadir una columna con el orden de aparición de los IDs compartidos\n",
    "mx_df['message_number'] = mx_df.groupby('ConversationId').cumcount() + 1\n"
   ]
  },
  {
   "cell_type": "code",
   "execution_count": 19,
   "metadata": {},
   "outputs": [
    {
     "data": {
      "application/vnd.microsoft.datawrangler.viewer.v0+json": {
       "columns": [
        {
         "name": "index",
         "rawType": "int64",
         "type": "integer"
        },
        {
         "name": "mobile",
         "rawType": "int64",
         "type": "integer"
        },
        {
         "name": "createddate",
         "rawType": "object",
         "type": "string"
        },
        {
         "name": "message_hcp_reply",
         "rawType": "object",
         "type": "string"
        },
        {
         "name": "ConversationId",
         "rawType": "object",
         "type": "string"
        },
        {
         "name": "ChatMessagingMOLogId",
         "rawType": "int64",
         "type": "integer"
        },
        {
         "name": "message_number",
         "rawType": "int64",
         "type": "integer"
        }
       ],
       "ref": "7c89ebed-8c3b-4512-9196-1021b2d41f4e",
       "rows": [
        [
         "0",
         "524499287753",
         "Apr  1 2025  8:20PM",
         "Recurso multimedia enviado: image/jpeg",
         "wamid.HBgNNTIxNDQ5OTI4Nzc1MxUCABIYIDM4MTc1MEI5QTIyQzc3NjU4Q0NGNDJDNzE4OTRBNzY2AA==",
         "50647",
         "1"
        ],
        [
         "1",
         "526641650361",
         "Apr  1 2025 10:13PM",
         "Recurso multimedia enviado: image/jpeg",
         "wamid.HBgNNTIxNjY0MTY1MDM2MRUCABIYFDNBNzFFNTkxREYyRkQ2REZEODMyAA==",
         "50648",
         "1"
        ],
        [
         "2",
         "524777295424",
         "Apr  2 2025  6:12AM",
         "Recurso multimedia enviado: image/jpeg",
         "wamid.HBgNNTIxNDc3NzI5NTQyNBUCABIYFDVFNjVDMjBGOTA1MUE5NzBCQkY5AA==",
         "50649",
         "1"
        ],
        [
         "3",
         "524433302549",
         "Apr  2 2025  8:32AM",
         "Recurso multimedia enviado: image/jpeg",
         "wamid.HBgNNTIxNDQzMzMwMjU0ORUCABIYIDExRDIyNEFFNkI0RTBGNEEyQzVFMDBFNDY4NDRDQkE5AA==",
         "50651",
         "1"
        ],
        [
         "4",
         "525578202314",
         "Apr  2 2025  8:39AM",
         "Recurso multimedia enviado: image/jpeg",
         "wamid.HBgNNTIxNTU3ODIwMjMxNBUCABIYIDIzRDM3QTI1NzExN0YyRDYyNEEyOUIxRkMwNTZGMTY4AA==",
         "50652",
         "1"
        ]
       ],
       "shape": {
        "columns": 6,
        "rows": 5
       }
      },
      "text/html": [
       "<div>\n",
       "<style scoped>\n",
       "    .dataframe tbody tr th:only-of-type {\n",
       "        vertical-align: middle;\n",
       "    }\n",
       "\n",
       "    .dataframe tbody tr th {\n",
       "        vertical-align: top;\n",
       "    }\n",
       "\n",
       "    .dataframe thead th {\n",
       "        text-align: right;\n",
       "    }\n",
       "</style>\n",
       "<table border=\"1\" class=\"dataframe\">\n",
       "  <thead>\n",
       "    <tr style=\"text-align: right;\">\n",
       "      <th></th>\n",
       "      <th>mobile</th>\n",
       "      <th>createddate</th>\n",
       "      <th>message_hcp_reply</th>\n",
       "      <th>ConversationId</th>\n",
       "      <th>ChatMessagingMOLogId</th>\n",
       "      <th>message_number</th>\n",
       "    </tr>\n",
       "  </thead>\n",
       "  <tbody>\n",
       "    <tr>\n",
       "      <th>0</th>\n",
       "      <td>524499287753</td>\n",
       "      <td>Apr  1 2025  8:20PM</td>\n",
       "      <td>Recurso multimedia enviado: image/jpeg</td>\n",
       "      <td>wamid.HBgNNTIxNDQ5OTI4Nzc1MxUCABIYIDM4MTc1MEI5...</td>\n",
       "      <td>50647</td>\n",
       "      <td>1</td>\n",
       "    </tr>\n",
       "    <tr>\n",
       "      <th>1</th>\n",
       "      <td>526641650361</td>\n",
       "      <td>Apr  1 2025 10:13PM</td>\n",
       "      <td>Recurso multimedia enviado: image/jpeg</td>\n",
       "      <td>wamid.HBgNNTIxNjY0MTY1MDM2MRUCABIYFDNBNzFFNTkx...</td>\n",
       "      <td>50648</td>\n",
       "      <td>1</td>\n",
       "    </tr>\n",
       "    <tr>\n",
       "      <th>2</th>\n",
       "      <td>524777295424</td>\n",
       "      <td>Apr  2 2025  6:12AM</td>\n",
       "      <td>Recurso multimedia enviado: image/jpeg</td>\n",
       "      <td>wamid.HBgNNTIxNDc3NzI5NTQyNBUCABIYFDVFNjVDMjBG...</td>\n",
       "      <td>50649</td>\n",
       "      <td>1</td>\n",
       "    </tr>\n",
       "    <tr>\n",
       "      <th>3</th>\n",
       "      <td>524433302549</td>\n",
       "      <td>Apr  2 2025  8:32AM</td>\n",
       "      <td>Recurso multimedia enviado: image/jpeg</td>\n",
       "      <td>wamid.HBgNNTIxNDQzMzMwMjU0ORUCABIYIDExRDIyNEFF...</td>\n",
       "      <td>50651</td>\n",
       "      <td>1</td>\n",
       "    </tr>\n",
       "    <tr>\n",
       "      <th>4</th>\n",
       "      <td>525578202314</td>\n",
       "      <td>Apr  2 2025  8:39AM</td>\n",
       "      <td>Recurso multimedia enviado: image/jpeg</td>\n",
       "      <td>wamid.HBgNNTIxNTU3ODIwMjMxNBUCABIYIDIzRDM3QTI1...</td>\n",
       "      <td>50652</td>\n",
       "      <td>1</td>\n",
       "    </tr>\n",
       "  </tbody>\n",
       "</table>\n",
       "</div>"
      ],
      "text/plain": [
       "         mobile          createddate                       message_hcp_reply  \\\n",
       "0  524499287753  Apr  1 2025  8:20PM  Recurso multimedia enviado: image/jpeg   \n",
       "1  526641650361  Apr  1 2025 10:13PM  Recurso multimedia enviado: image/jpeg   \n",
       "2  524777295424  Apr  2 2025  6:12AM  Recurso multimedia enviado: image/jpeg   \n",
       "3  524433302549  Apr  2 2025  8:32AM  Recurso multimedia enviado: image/jpeg   \n",
       "4  525578202314  Apr  2 2025  8:39AM  Recurso multimedia enviado: image/jpeg   \n",
       "\n",
       "                                      ConversationId  ChatMessagingMOLogId  \\\n",
       "0  wamid.HBgNNTIxNDQ5OTI4Nzc1MxUCABIYIDM4MTc1MEI5...                 50647   \n",
       "1  wamid.HBgNNTIxNjY0MTY1MDM2MRUCABIYFDNBNzFFNTkx...                 50648   \n",
       "2  wamid.HBgNNTIxNDc3NzI5NTQyNBUCABIYFDVFNjVDMjBG...                 50649   \n",
       "3  wamid.HBgNNTIxNDQzMzMwMjU0ORUCABIYIDExRDIyNEFF...                 50651   \n",
       "4  wamid.HBgNNTIxNTU3ODIwMjMxNBUCABIYIDIzRDM3QTI1...                 50652   \n",
       "\n",
       "   message_number  \n",
       "0               1  \n",
       "1               1  \n",
       "2               1  \n",
       "3               1  \n",
       "4               1  "
      ]
     },
     "execution_count": 19,
     "metadata": {},
     "output_type": "execute_result"
    }
   ],
   "source": [
    "mx_df.head()"
   ]
  },
  {
   "cell_type": "markdown",
   "metadata": {},
   "source": [
    "## Create new dataframes"
   ]
  },
  {
   "cell_type": "markdown",
   "metadata": {},
   "source": [
    "### Historic_Messages"
   ]
  },
  {
   "cell_type": "code",
   "execution_count": 20,
   "metadata": {},
   "outputs": [],
   "source": [
    "his_messages = mx_df[['ChatMessagingMOLogId', 'ConversationId', 'message_hcp_reply', 'message_number']].copy()\n",
    "his_messages.rename({\n",
    "    'ChatMessagingMOLogId': 'message_id', \n",
    "    'ConversationId': 'conversation_id',\n",
    "    'message_hcp_reply': 'message'}, \n",
    "    axis=1, inplace=True)"
   ]
  },
  {
   "cell_type": "code",
   "execution_count": 21,
   "metadata": {},
   "outputs": [],
   "source": [
    "his_messages.sort_values(by='message_id', inplace=True)"
   ]
  },
  {
   "cell_type": "code",
   "execution_count": 22,
   "metadata": {},
   "outputs": [
    {
     "data": {
      "application/vnd.microsoft.datawrangler.viewer.v0+json": {
       "columns": [
        {
         "name": "index",
         "rawType": "int64",
         "type": "integer"
        },
        {
         "name": "message_id",
         "rawType": "int64",
         "type": "integer"
        },
        {
         "name": "conversation_id",
         "rawType": "object",
         "type": "string"
        },
        {
         "name": "message",
         "rawType": "object",
         "type": "string"
        },
        {
         "name": "message_number",
         "rawType": "int64",
         "type": "integer"
        }
       ],
       "ref": "aab46b1f-d4b3-4394-aacd-cb5cda82e3fa",
       "rows": [
        [
         "6753",
         "35924",
         "01J0Q8BV98KWR1Q49J1FX25BQ9",
         "",
         "2"
        ],
        [
         "6754",
         "35931",
         "01J0RQTJSV0B7QS7X3MFWG92Z9",
         "",
         "1"
        ],
        [
         "6755",
         "35932",
         "01J0Q8BV98KWR1Q49J1FX25BQ9",
         "",
         "3"
        ],
        [
         "19",
         "35939",
         "01J0Q8BV98KWR1Q49J1FX25BQ9",
         "",
         "1"
        ],
        [
         "8008",
         "35957",
         "01J0Q8BV98KWR1Q49J1FX25BQ9",
         "",
         "4"
        ]
       ],
       "shape": {
        "columns": 4,
        "rows": 5
       }
      },
      "text/html": [
       "<div>\n",
       "<style scoped>\n",
       "    .dataframe tbody tr th:only-of-type {\n",
       "        vertical-align: middle;\n",
       "    }\n",
       "\n",
       "    .dataframe tbody tr th {\n",
       "        vertical-align: top;\n",
       "    }\n",
       "\n",
       "    .dataframe thead th {\n",
       "        text-align: right;\n",
       "    }\n",
       "</style>\n",
       "<table border=\"1\" class=\"dataframe\">\n",
       "  <thead>\n",
       "    <tr style=\"text-align: right;\">\n",
       "      <th></th>\n",
       "      <th>message_id</th>\n",
       "      <th>conversation_id</th>\n",
       "      <th>message</th>\n",
       "      <th>message_number</th>\n",
       "    </tr>\n",
       "  </thead>\n",
       "  <tbody>\n",
       "    <tr>\n",
       "      <th>6753</th>\n",
       "      <td>35924</td>\n",
       "      <td>01J0Q8BV98KWR1Q49J1FX25BQ9</td>\n",
       "      <td></td>\n",
       "      <td>2</td>\n",
       "    </tr>\n",
       "    <tr>\n",
       "      <th>6754</th>\n",
       "      <td>35931</td>\n",
       "      <td>01J0RQTJSV0B7QS7X3MFWG92Z9</td>\n",
       "      <td></td>\n",
       "      <td>1</td>\n",
       "    </tr>\n",
       "    <tr>\n",
       "      <th>6755</th>\n",
       "      <td>35932</td>\n",
       "      <td>01J0Q8BV98KWR1Q49J1FX25BQ9</td>\n",
       "      <td></td>\n",
       "      <td>3</td>\n",
       "    </tr>\n",
       "    <tr>\n",
       "      <th>19</th>\n",
       "      <td>35939</td>\n",
       "      <td>01J0Q8BV98KWR1Q49J1FX25BQ9</td>\n",
       "      <td></td>\n",
       "      <td>1</td>\n",
       "    </tr>\n",
       "    <tr>\n",
       "      <th>8008</th>\n",
       "      <td>35957</td>\n",
       "      <td>01J0Q8BV98KWR1Q49J1FX25BQ9</td>\n",
       "      <td></td>\n",
       "      <td>4</td>\n",
       "    </tr>\n",
       "  </tbody>\n",
       "</table>\n",
       "</div>"
      ],
      "text/plain": [
       "      message_id             conversation_id message  message_number\n",
       "6753       35924  01J0Q8BV98KWR1Q49J1FX25BQ9                       2\n",
       "6754       35931  01J0RQTJSV0B7QS7X3MFWG92Z9                       1\n",
       "6755       35932  01J0Q8BV98KWR1Q49J1FX25BQ9                       3\n",
       "19         35939  01J0Q8BV98KWR1Q49J1FX25BQ9                       1\n",
       "8008       35957  01J0Q8BV98KWR1Q49J1FX25BQ9                       4"
      ]
     },
     "execution_count": 22,
     "metadata": {},
     "output_type": "execute_result"
    }
   ],
   "source": [
    "his_messages.head()"
   ]
  },
  {
   "cell_type": "code",
   "execution_count": 23,
   "metadata": {},
   "outputs": [],
   "source": [
    "# his_messages.to_csv('C:/Users/U1058105/OneDrive - Sanofi/Documentos/WA Responses Data/final data/CO_historic_messages.csv', index=False)\n",
    "his_messages.to_csv('../data/processed/MX_historic_messages.csv', index=False)"
   ]
  },
  {
   "cell_type": "markdown",
   "metadata": {},
   "source": [
    "### Conversations_historic\n",
    "    - conversation_Id(Unico): Identificador de la sesión\n",
    "    - mobile_phone: Número telefonico de la persona que manda el mensaje.\n",
    "    - campaing_id: Id de la campaña a la que se respondio. Se relaciona con campaing_historic.\n",
    "    - date: Fecha de la conversación\n",
    "    - conversation_category: Categoría del mensaje: mensaje automatico, url o mensaje personalizado.\n",
    "    - conversation_description: Descripción breve sobre la conversación."
   ]
  },
  {
   "cell_type": "code",
   "execution_count": null,
   "metadata": {},
   "outputs": [],
   "source": [
    "conv_his = mx_df[['ConversationId', 'mobile', 'createddate']].copy()\n",
    "conv_his.rename(\n",
    "    'ConversationId': 'conversation_id',\n",
    "    'createddate': 'date'}, \n",
    "    axis=1, inplace=True)"
   ]
  },
  {
   "cell_type": "code",
   "execution_count": 25,
   "metadata": {},
   "outputs": [
    {
     "data": {
      "application/vnd.microsoft.datawrangler.viewer.v0+json": {
       "columns": [
        {
         "name": "index",
         "rawType": "int64",
         "type": "integer"
        },
        {
         "name": "conversation_id",
         "rawType": "object",
         "type": "string"
        },
        {
         "name": "mobile",
         "rawType": "int64",
         "type": "integer"
        },
        {
         "name": "date",
         "rawType": "object",
         "type": "string"
        }
       ],
       "ref": "dfec13ad-ec47-45ca-8ba4-fbdd1ddd1cdc",
       "rows": [
        [
         "0",
         "wamid.HBgNNTIxNDQ5OTI4Nzc1MxUCABIYIDM4MTc1MEI5QTIyQzc3NjU4Q0NGNDJDNzE4OTRBNzY2AA==",
         "524499287753",
         "Apr  1 2025  8:20PM"
        ],
        [
         "1",
         "wamid.HBgNNTIxNjY0MTY1MDM2MRUCABIYFDNBNzFFNTkxREYyRkQ2REZEODMyAA==",
         "526641650361",
         "Apr  1 2025 10:13PM"
        ],
        [
         "2",
         "wamid.HBgNNTIxNDc3NzI5NTQyNBUCABIYFDVFNjVDMjBGOTA1MUE5NzBCQkY5AA==",
         "524777295424",
         "Apr  2 2025  6:12AM"
        ],
        [
         "3",
         "wamid.HBgNNTIxNDQzMzMwMjU0ORUCABIYIDExRDIyNEFFNkI0RTBGNEEyQzVFMDBFNDY4NDRDQkE5AA==",
         "524433302549",
         "Apr  2 2025  8:32AM"
        ],
        [
         "4",
         "wamid.HBgNNTIxNTU3ODIwMjMxNBUCABIYIDIzRDM3QTI1NzExN0YyRDYyNEEyOUIxRkMwNTZGMTY4AA==",
         "525578202314",
         "Apr  2 2025  8:39AM"
        ]
       ],
       "shape": {
        "columns": 3,
        "rows": 5
       }
      },
      "text/html": [
       "<div>\n",
       "<style scoped>\n",
       "    .dataframe tbody tr th:only-of-type {\n",
       "        vertical-align: middle;\n",
       "    }\n",
       "\n",
       "    .dataframe tbody tr th {\n",
       "        vertical-align: top;\n",
       "    }\n",
       "\n",
       "    .dataframe thead th {\n",
       "        text-align: right;\n",
       "    }\n",
       "</style>\n",
       "<table border=\"1\" class=\"dataframe\">\n",
       "  <thead>\n",
       "    <tr style=\"text-align: right;\">\n",
       "      <th></th>\n",
       "      <th>conversation_id</th>\n",
       "      <th>mobile</th>\n",
       "      <th>date</th>\n",
       "    </tr>\n",
       "  </thead>\n",
       "  <tbody>\n",
       "    <tr>\n",
       "      <th>0</th>\n",
       "      <td>wamid.HBgNNTIxNDQ5OTI4Nzc1MxUCABIYIDM4MTc1MEI5...</td>\n",
       "      <td>524499287753</td>\n",
       "      <td>Apr  1 2025  8:20PM</td>\n",
       "    </tr>\n",
       "    <tr>\n",
       "      <th>1</th>\n",
       "      <td>wamid.HBgNNTIxNjY0MTY1MDM2MRUCABIYFDNBNzFFNTkx...</td>\n",
       "      <td>526641650361</td>\n",
       "      <td>Apr  1 2025 10:13PM</td>\n",
       "    </tr>\n",
       "    <tr>\n",
       "      <th>2</th>\n",
       "      <td>wamid.HBgNNTIxNDc3NzI5NTQyNBUCABIYFDVFNjVDMjBG...</td>\n",
       "      <td>524777295424</td>\n",
       "      <td>Apr  2 2025  6:12AM</td>\n",
       "    </tr>\n",
       "    <tr>\n",
       "      <th>3</th>\n",
       "      <td>wamid.HBgNNTIxNDQzMzMwMjU0ORUCABIYIDExRDIyNEFF...</td>\n",
       "      <td>524433302549</td>\n",
       "      <td>Apr  2 2025  8:32AM</td>\n",
       "    </tr>\n",
       "    <tr>\n",
       "      <th>4</th>\n",
       "      <td>wamid.HBgNNTIxNTU3ODIwMjMxNBUCABIYIDIzRDM3QTI1...</td>\n",
       "      <td>525578202314</td>\n",
       "      <td>Apr  2 2025  8:39AM</td>\n",
       "    </tr>\n",
       "  </tbody>\n",
       "</table>\n",
       "</div>"
      ],
      "text/plain": [
       "                                     conversation_id        mobile  \\\n",
       "0  wamid.HBgNNTIxNDQ5OTI4Nzc1MxUCABIYIDM4MTc1MEI5...  524499287753   \n",
       "1  wamid.HBgNNTIxNjY0MTY1MDM2MRUCABIYFDNBNzFFNTkx...  526641650361   \n",
       "2  wamid.HBgNNTIxNDc3NzI5NTQyNBUCABIYFDVFNjVDMjBG...  524777295424   \n",
       "3  wamid.HBgNNTIxNDQzMzMwMjU0ORUCABIYIDExRDIyNEFF...  524433302549   \n",
       "4  wamid.HBgNNTIxNTU3ODIwMjMxNBUCABIYIDIzRDM3QTI1...  525578202314   \n",
       "\n",
       "                  date  \n",
       "0  Apr  1 2025  8:20PM  \n",
       "1  Apr  1 2025 10:13PM  \n",
       "2  Apr  2 2025  6:12AM  \n",
       "3  Apr  2 2025  8:32AM  \n",
       "4  Apr  2 2025  8:39AM  "
      ]
     },
     "execution_count": 25,
     "metadata": {},
     "output_type": "execute_result"
    }
   ],
   "source": [
    "conv_his.head()"
   ]
  },
  {
   "cell_type": "code",
   "execution_count": 26,
   "metadata": {},
   "outputs": [],
   "source": [
    "conv_his = conv_his.drop_duplicates(subset=['conversation_id'], keep='first')"
   ]
  },
  {
   "cell_type": "code",
   "execution_count": 27,
   "metadata": {},
   "outputs": [
    {
     "data": {
      "text/plain": [
       "8349"
      ]
     },
     "execution_count": 27,
     "metadata": {},
     "output_type": "execute_result"
    }
   ],
   "source": [
    "len(conv_his)"
   ]
  },
  {
   "cell_type": "code",
   "execution_count": 28,
   "metadata": {},
   "outputs": [],
   "source": [
    "conv_his['campaing_id'] = ''\n",
    "conv_his['conversation'] = ''\n",
    "conv_his['conversation_category'] = ''\n",
    "conv_his['conversation_feeling'] = ''\n",
    "conv_his['conversation_need'] = ''\n",
    "conv_his['support_type'] = ''"
   ]
  },
  {
   "cell_type": "code",
   "execution_count": 29,
   "metadata": {},
   "outputs": [],
   "source": [
    "conv_his = conv_his[['conversation_id', 'mobile', 'date', 'campaing_id', 'conversation', 'conversation_category', 'conversation_feeling', 'conversation_need', 'support_type']]"
   ]
  },
  {
   "cell_type": "code",
   "execution_count": 30,
   "metadata": {},
   "outputs": [],
   "source": [
    "conv_his['date'] = pd.to_datetime(conv_his['date'], format=\"mixed\")"
   ]
  },
  {
   "cell_type": "markdown",
   "metadata": {},
   "source": [
    "### Add conversations"
   ]
  },
  {
   "cell_type": "code",
   "execution_count": 31,
   "metadata": {},
   "outputs": [],
   "source": [
    "conversations_id = conv_his['conversation_id']"
   ]
  },
  {
   "cell_type": "code",
   "execution_count": 32,
   "metadata": {},
   "outputs": [],
   "source": [
    "for id in conversations_id:\n",
    "    try:\n",
    "        messages_text = his_messages[his_messages['conversation_id'] == id].sort_values(by='message_number')['message'].astype(str).tolist()\n",
    "        if not messages_text:\n",
    "            raise ValueError(\"messages_text is an empty list\")\n",
    "    except Exception as e:\n",
    "        print(f\"Error processing conversation_id {id}: {e}\")\n",
    "        messages_text = []\n",
    "    final_message = '\\n'.join(messages_text) if len(messages_text) > 0 else ''\n",
    "\n",
    "    conv_his.loc[conv_his['conversation_id'] == id, 'conversation'] = final_message"
   ]
  },
  {
   "cell_type": "code",
   "execution_count": 33,
   "metadata": {},
   "outputs": [
    {
     "data": {
      "application/vnd.microsoft.datawrangler.viewer.v0+json": {
       "columns": [
        {
         "name": "index",
         "rawType": "int64",
         "type": "integer"
        },
        {
         "name": "conversation_id",
         "rawType": "object",
         "type": "string"
        },
        {
         "name": "mobile",
         "rawType": "int64",
         "type": "integer"
        },
        {
         "name": "date",
         "rawType": "datetime64[ns]",
         "type": "datetime"
        },
        {
         "name": "campaing_id",
         "rawType": "object",
         "type": "string"
        },
        {
         "name": "conversation",
         "rawType": "object",
         "type": "string"
        },
        {
         "name": "conversation_category",
         "rawType": "object",
         "type": "string"
        },
        {
         "name": "conversation_feeling",
         "rawType": "object",
         "type": "string"
        },
        {
         "name": "conversation_need",
         "rawType": "object",
         "type": "string"
        },
        {
         "name": "support_type",
         "rawType": "object",
         "type": "string"
        }
       ],
       "ref": "28ed42c6-b350-4d3b-bfc6-b5768f75214d",
       "rows": [
        [
         "0",
         "wamid.HBgNNTIxNDQ5OTI4Nzc1MxUCABIYIDM4MTc1MEI5QTIyQzc3NjU4Q0NGNDJDNzE4OTRBNzY2AA==",
         "524499287753",
         "2025-04-01 20:20:00",
         "",
         "Recurso multimedia enviado: image/jpeg",
         "",
         "",
         "",
         ""
        ],
        [
         "1",
         "wamid.HBgNNTIxNjY0MTY1MDM2MRUCABIYFDNBNzFFNTkxREYyRkQ2REZEODMyAA==",
         "526641650361",
         "2025-04-01 22:13:00",
         "",
         "Recurso multimedia enviado: image/jpeg",
         "",
         "",
         "",
         ""
        ],
        [
         "2",
         "wamid.HBgNNTIxNDc3NzI5NTQyNBUCABIYFDVFNjVDMjBGOTA1MUE5NzBCQkY5AA==",
         "524777295424",
         "2025-04-02 06:12:00",
         "",
         "Recurso multimedia enviado: image/jpeg",
         "",
         "",
         "",
         ""
        ],
        [
         "3",
         "wamid.HBgNNTIxNDQzMzMwMjU0ORUCABIYIDExRDIyNEFFNkI0RTBGNEEyQzVFMDBFNDY4NDRDQkE5AA==",
         "524433302549",
         "2025-04-02 08:32:00",
         "",
         "Recurso multimedia enviado: image/jpeg",
         "",
         "",
         "",
         ""
        ],
        [
         "4",
         "wamid.HBgNNTIxNTU3ODIwMjMxNBUCABIYIDIzRDM3QTI1NzExN0YyRDYyNEEyOUIxRkMwNTZGMTY4AA==",
         "525578202314",
         "2025-04-02 08:39:00",
         "",
         "Recurso multimedia enviado: image/jpeg",
         "",
         "",
         "",
         ""
        ]
       ],
       "shape": {
        "columns": 9,
        "rows": 5
       }
      },
      "text/html": [
       "<div>\n",
       "<style scoped>\n",
       "    .dataframe tbody tr th:only-of-type {\n",
       "        vertical-align: middle;\n",
       "    }\n",
       "\n",
       "    .dataframe tbody tr th {\n",
       "        vertical-align: top;\n",
       "    }\n",
       "\n",
       "    .dataframe thead th {\n",
       "        text-align: right;\n",
       "    }\n",
       "</style>\n",
       "<table border=\"1\" class=\"dataframe\">\n",
       "  <thead>\n",
       "    <tr style=\"text-align: right;\">\n",
       "      <th></th>\n",
       "      <th>conversation_id</th>\n",
       "      <th>mobile</th>\n",
       "      <th>date</th>\n",
       "      <th>campaing_id</th>\n",
       "      <th>conversation</th>\n",
       "      <th>conversation_category</th>\n",
       "      <th>conversation_feeling</th>\n",
       "      <th>conversation_need</th>\n",
       "      <th>support_type</th>\n",
       "    </tr>\n",
       "  </thead>\n",
       "  <tbody>\n",
       "    <tr>\n",
       "      <th>0</th>\n",
       "      <td>wamid.HBgNNTIxNDQ5OTI4Nzc1MxUCABIYIDM4MTc1MEI5...</td>\n",
       "      <td>524499287753</td>\n",
       "      <td>2025-04-01 20:20:00</td>\n",
       "      <td></td>\n",
       "      <td>Recurso multimedia enviado: image/jpeg</td>\n",
       "      <td></td>\n",
       "      <td></td>\n",
       "      <td></td>\n",
       "      <td></td>\n",
       "    </tr>\n",
       "    <tr>\n",
       "      <th>1</th>\n",
       "      <td>wamid.HBgNNTIxNjY0MTY1MDM2MRUCABIYFDNBNzFFNTkx...</td>\n",
       "      <td>526641650361</td>\n",
       "      <td>2025-04-01 22:13:00</td>\n",
       "      <td></td>\n",
       "      <td>Recurso multimedia enviado: image/jpeg</td>\n",
       "      <td></td>\n",
       "      <td></td>\n",
       "      <td></td>\n",
       "      <td></td>\n",
       "    </tr>\n",
       "    <tr>\n",
       "      <th>2</th>\n",
       "      <td>wamid.HBgNNTIxNDc3NzI5NTQyNBUCABIYFDVFNjVDMjBG...</td>\n",
       "      <td>524777295424</td>\n",
       "      <td>2025-04-02 06:12:00</td>\n",
       "      <td></td>\n",
       "      <td>Recurso multimedia enviado: image/jpeg</td>\n",
       "      <td></td>\n",
       "      <td></td>\n",
       "      <td></td>\n",
       "      <td></td>\n",
       "    </tr>\n",
       "    <tr>\n",
       "      <th>3</th>\n",
       "      <td>wamid.HBgNNTIxNDQzMzMwMjU0ORUCABIYIDExRDIyNEFF...</td>\n",
       "      <td>524433302549</td>\n",
       "      <td>2025-04-02 08:32:00</td>\n",
       "      <td></td>\n",
       "      <td>Recurso multimedia enviado: image/jpeg</td>\n",
       "      <td></td>\n",
       "      <td></td>\n",
       "      <td></td>\n",
       "      <td></td>\n",
       "    </tr>\n",
       "    <tr>\n",
       "      <th>4</th>\n",
       "      <td>wamid.HBgNNTIxNTU3ODIwMjMxNBUCABIYIDIzRDM3QTI1...</td>\n",
       "      <td>525578202314</td>\n",
       "      <td>2025-04-02 08:39:00</td>\n",
       "      <td></td>\n",
       "      <td>Recurso multimedia enviado: image/jpeg</td>\n",
       "      <td></td>\n",
       "      <td></td>\n",
       "      <td></td>\n",
       "      <td></td>\n",
       "    </tr>\n",
       "  </tbody>\n",
       "</table>\n",
       "</div>"
      ],
      "text/plain": [
       "                                     conversation_id        mobile  \\\n",
       "0  wamid.HBgNNTIxNDQ5OTI4Nzc1MxUCABIYIDM4MTc1MEI5...  524499287753   \n",
       "1  wamid.HBgNNTIxNjY0MTY1MDM2MRUCABIYFDNBNzFFNTkx...  526641650361   \n",
       "2  wamid.HBgNNTIxNDc3NzI5NTQyNBUCABIYFDVFNjVDMjBG...  524777295424   \n",
       "3  wamid.HBgNNTIxNDQzMzMwMjU0ORUCABIYIDExRDIyNEFF...  524433302549   \n",
       "4  wamid.HBgNNTIxNTU3ODIwMjMxNBUCABIYIDIzRDM3QTI1...  525578202314   \n",
       "\n",
       "                 date campaing_id                            conversation  \\\n",
       "0 2025-04-01 20:20:00              Recurso multimedia enviado: image/jpeg   \n",
       "1 2025-04-01 22:13:00              Recurso multimedia enviado: image/jpeg   \n",
       "2 2025-04-02 06:12:00              Recurso multimedia enviado: image/jpeg   \n",
       "3 2025-04-02 08:32:00              Recurso multimedia enviado: image/jpeg   \n",
       "4 2025-04-02 08:39:00              Recurso multimedia enviado: image/jpeg   \n",
       "\n",
       "  conversation_category conversation_feeling conversation_need support_type  \n",
       "0                                                                            \n",
       "1                                                                            \n",
       "2                                                                            \n",
       "3                                                                            \n",
       "4                                                                            "
      ]
     },
     "execution_count": 33,
     "metadata": {},
     "output_type": "execute_result"
    }
   ],
   "source": [
    "conv_his.head()"
   ]
  },
  {
   "cell_type": "code",
   "execution_count": 34,
   "metadata": {},
   "outputs": [],
   "source": [
    "conv_his.sort_values(by='date', ascending=False, inplace=True)\n",
    "conv_his.to_csv('../data/processed/MX_historic_conversations.csv', index=False)"
   ]
  }
 ],
 "metadata": {
  "kernelspec": {
   "display_name": "env",
   "language": "python",
   "name": "python3"
  },
  "language_info": {
   "codemirror_mode": {
    "name": "ipython",
    "version": 3
   },
   "file_extension": ".py",
   "mimetype": "text/x-python",
   "name": "python",
   "nbconvert_exporter": "python",
   "pygments_lexer": "ipython3",
   "version": "3.11.4"
  }
 },
 "nbformat": 4,
 "nbformat_minor": 2
}
