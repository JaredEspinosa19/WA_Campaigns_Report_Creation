{
 "cells": [
  {
   "cell_type": "code",
   "execution_count": 19,
   "metadata": {},
   "outputs": [],
   "source": [
    "from ollama import chat\n",
    "from pydantic import BaseModel, Field\n",
    "\n",
    "# class Country(BaseModel):\n",
    "#   name: str\n",
    "#   capital: str\n",
    "#   languages: list[str]\n",
    "\n",
    "# response = chat(\n",
    "#   messages=[\n",
    "#     {\n",
    "#       'role': 'user',\n",
    "#       'content': 'Tell me about Canada.',\n",
    "#     }\n",
    "#   ],\n",
    "#   model='gemma3:12b',\n",
    "#   format=Country.model_json_schema(),\n",
    "# )\n",
    "\n",
    "# country = Country.model_validate_json(response.message.content)\n",
    "# print(country)"
   ]
  },
  {
   "cell_type": "code",
   "execution_count": 20,
   "metadata": {},
   "outputs": [],
   "source": [
    "class Classification(BaseModel):\n",
    "    Clasificacion: str = Field(description=\"Tipo de respuesta: (Automática/Escrita)\")\n",
    "    Sentitimiento: str = Field(\n",
    "        description=\"Inteción: (Positiva/Negativa)\"\n",
    "    )\n",
    "    Resumen: str = Field(\n",
    "        description=\"Resumen breve de la conversación\"\n",
    "    )\n",
    "    Necesidad: str = Field(\n",
    "        description=\"Necesidad del usuario\")"
   ]
  },
  {
   "cell_type": "code",
   "execution_count": 21,
   "metadata": {},
   "outputs": [],
   "source": [
    "promt_template = \"\"\"\n",
    "    Eres un analizador de mensajes que responde a campañas o contenidos enviados. Tu tarea es procesar cada mensaje y devolver la siguiente información:\n",
    "\n",
    "    1. Tipo de mensaje:\n",
    "\n",
    "        - Automático: Mensajes que son respuestas preestablecidas en las que se anuncian o presentan los servicios ofrecidos.\n",
    "\n",
    "        - Escrito: Mensajes en los que el usuario agradece, pregunta o solicita ayuda de manera personalizada.\n",
    "\n",
    "    2. Intención (solo para mensajes escritos):\n",
    "\n",
    "        -Positiva: Si el mensaje expresa agradecimiento, satisfacción u otra intención positiva.\n",
    "\n",
    "        -Negativa: Si el mensaje muestra quejas, molestia o insatisfacción.\n",
    "\n",
    "    3.Resumen breve del mensaje: Proporciona un resumen conciso que capture la idea principal del mensaje.\n",
    "\n",
    "    4. Ayuda solicitada (solo para mensajes escritos):\n",
    "\n",
    "        -Identifica qué tipo de asistencia solicita el usuario (por ejemplo, solicitar que un representante se comunique, pedir más información, requerir entradas adicionales para un evento, etc.).\n",
    "\n",
    "    El mensaje a analizar es el siguiente:\n",
    "\"\"\"\n",
    "message = \"\"\"Quiero al representante presencial, solicito apoyo de eventos y creo que de esta manera no me tomarán en cuenta.\n",
    "Ya no viene nadie del laboratorio Sanofi a mi consultorio\n",
    "Y tengo tiempo solicitando\"\"\""
   ]
  },
  {
   "cell_type": "code",
   "execution_count": 22,
   "metadata": {},
   "outputs": [
    {
     "name": "stdout",
     "output_type": "stream",
     "text": [
      "Clasificacion='Escrito' Sentitimiento='Negativo' Resumen='El usuario solicita la intervención de un representante presencial, necesita apoyo para eventos y expresa frustración por la falta de visitas del laboratorio Sanofi a su consultorio, además de mencionar que solicita algo desde hace tiempo.' Necesidad='Comunicación con representante presencial y apoyo para eventos.'\n"
     ]
    }
   ],
   "source": [
    "response = chat(\n",
    "  messages=[\n",
    "    {\n",
    "      'role': 'user',\n",
    "      'content': promt_template + message,\n",
    "    }\n",
    "  ],\n",
    "  model='gemma3:12b',\n",
    "  format=Classification.model_json_schema(),\n",
    ")\n",
    "\n",
    "country = Classification.model_validate_json(response.message.content)\n",
    "\n",
    "print(country)"
   ]
  },
  {
   "cell_type": "code",
   "execution_count": null,
   "metadata": {},
   "outputs": [
    {
     "data": {
      "text/plain": [
       "ollama._types.ChatResponse"
      ]
     },
     "execution_count": 27,
     "metadata": {},
     "output_type": "execute_result"
    }
   ],
   "source": [
    "type(response.message.content)"
   ]
  },
  {
   "cell_type": "code",
   "execution_count": 29,
   "metadata": {},
   "outputs": [
    {
     "data": {
      "text/plain": [
       "dict"
      ]
     },
     "execution_count": 29,
     "metadata": {},
     "output_type": "execute_result"
    }
   ],
   "source": [
    "type(Classification.model_json_schema())"
   ]
  },
  {
   "cell_type": "code",
   "execution_count": null,
   "metadata": {},
   "outputs": [
    {
     "data": {
      "text/plain": [
       "'Escrito'"
      ]
     },
     "execution_count": 31,
     "metadata": {},
     "output_type": "execute_result"
    }
   ],
   "source": [
    "country.Clasificacion"
   ]
  },
  {
   "cell_type": "code",
   "execution_count": null,
   "metadata": {},
   "outputs": [],
   "source": []
  }
 ],
 "metadata": {
  "kernelspec": {
   "display_name": "env",
   "language": "python",
   "name": "python3"
  },
  "language_info": {
   "codemirror_mode": {
    "name": "ipython",
    "version": 3
   },
   "file_extension": ".py",
   "mimetype": "text/x-python",
   "name": "python",
   "nbconvert_exporter": "python",
   "pygments_lexer": "ipython3",
   "version": "3.11.4"
  }
 },
 "nbformat": 4,
 "nbformat_minor": 2
}
